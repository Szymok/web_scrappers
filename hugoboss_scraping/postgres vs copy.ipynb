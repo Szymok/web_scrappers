{
 "cells": [
  {
   "cell_type": "code",
   "execution_count": 1,
   "id": "bcbdb4f1-0f1c-4cf1-938e-2ec7ece2a833",
   "metadata": {},
   "outputs": [],
   "source": [
    "%load_ext sql"
   ]
  },
  {
   "cell_type": "code",
   "execution_count": 17,
   "id": "b51d3b6c-42a5-42af-883c-4e6c91c193f4",
   "metadata": {},
   "outputs": [
    {
     "data": {
      "text/plain": [
       "'Connected: @demo'"
      ]
     },
     "execution_count": 17,
     "metadata": {},
     "output_type": "execute_result"
    }
   ],
   "source": [
    "%sql postgresql://localhost/demo"
   ]
  },
  {
   "cell_type": "code",
   "execution_count": 18,
   "id": "d12c8a51-265b-4a0a-adb0-a8c0ef47c6e8",
   "metadata": {},
   "outputs": [
    {
     "name": "stdout",
     "output_type": "stream",
     "text": [
      " * postgresql://localhost/demo\n",
      "1 rows affected.\n"
     ]
    },
    {
     "data": {
      "text/html": [
       "<table>\n",
       "    <thead>\n",
       "        <tr>\n",
       "            <th>version</th>\n",
       "        </tr>\n",
       "    </thead>\n",
       "    <tbody>\n",
       "        <tr>\n",
       "            <td>PostgreSQL 12.9, compiled by Visual C++ build 1916, 64-bit</td>\n",
       "        </tr>\n",
       "    </tbody>\n",
       "</table>"
      ],
      "text/plain": [
       "[('PostgreSQL 12.9, compiled by Visual C++ build 1916, 64-bit',)]"
      ]
     },
     "execution_count": 18,
     "metadata": {},
     "output_type": "execute_result"
    }
   ],
   "source": [
    "%sql select version()"
   ]
  },
  {
   "cell_type": "code",
   "execution_count": 19,
   "id": "9cbcc52c-9f09-476a-b0bf-20168ff66fb9",
   "metadata": {},
   "outputs": [],
   "source": [
    "import time\n",
    "import pandas as pd\n",
    "from sqlalchemy import create_engine\n",
    "import psycopg2\n",
    "\n",
    "conn_string = 'postgresql://Szymon@localhost/demo'\n",
    "\n",
    "df = pd.read_csv('upload_test_data_big.csv')"
   ]
  },
  {
   "cell_type": "code",
   "execution_count": 20,
   "id": "54886157-8530-4a3d-a470-f6933c134954",
   "metadata": {},
   "outputs": [
    {
     "name": "stdout",
     "output_type": "stream",
     "text": [
      "to_sql duration: 33.76453375816345 seconds\n"
     ]
    }
   ],
   "source": [
    "#perform to_sql test and print result\n",
    "db = create_engine(conn_string)\n",
    "conn = db.connect()\n",
    "\n",
    "start_time = time.time()\n",
    "df.to_sql('to_sql_test', con=conn, if_exists='replace', index=False)\n",
    "print(\"to_sql duration: {} seconds\".format(time.time() - start_time))\n"
   ]
  },
  {
   "cell_type": "code",
   "execution_count": 21,
   "id": "46910991-2f3b-484d-84bd-481c96dfb01b",
   "metadata": {},
   "outputs": [],
   "source": [
    "#perform COPY test and print result\n",
    "sql = \"\"\"\n",
    "COPY copy_test\n",
    "FROM 'C:\\\\upload_test_data_from_copy.csv'\n",
    "DELIMITER ',' CSV\n",
    "\"\"\""
   ]
  },
  {
   "cell_type": "code",
   "execution_count": 22,
   "id": "52f1ccf9-2f10-4500-9845-df63ead4aee2",
   "metadata": {},
   "outputs": [],
   "source": [
    "table_create_sql = '''\n",
    "CREATE TABLE IF NOT EXISTS copy_test (id                bigint,\n",
    "                                      quantity          int,\n",
    "                                      cost              double precision,\n",
    "                                      total_revenue     double precision)\n",
    "'''"
   ]
  },
  {
   "cell_type": "code",
   "execution_count": 23,
   "id": "884d5b92-4bd7-473a-9466-9f18b12c17c5",
   "metadata": {},
   "outputs": [],
   "source": [
    "pg_conn = psycopg2.connect(conn_string)\n",
    "cur = pg_conn.cursor()\n",
    "cur.execute(table_create_sql)\n",
    "cur.execute('TRUNCATE TABLE copy_test') "
   ]
  },
  {
   "cell_type": "code",
   "execution_count": 24,
   "id": "b664e906-623d-4fc2-b0b6-9eeadd790fd2",
   "metadata": {},
   "outputs": [
    {
     "name": "stdout",
     "output_type": "stream",
     "text": [
      "COPY duration: 5.5999977588653564 seconds\n"
     ]
    }
   ],
   "source": [
    "start_time = time.time()\n",
    "df.to_csv('upload_test_data_from_copy.csv', index=False, header=False) \n",
    "cur.execute(sql)\n",
    "pg_conn.commit()\n",
    "cur.close()\n",
    "print(\"COPY duration: {} seconds\".format(time.time() - start_time))"
   ]
  },
  {
   "cell_type": "code",
   "execution_count": 25,
   "id": "318ee0cc-b1b8-4595-9102-11ca01f6f468",
   "metadata": {},
   "outputs": [],
   "source": [
    "conn.close()"
   ]
  },
  {
   "cell_type": "code",
   "execution_count": null,
   "id": "e333a47f-0e06-4b8d-91d6-ced3476af31e",
   "metadata": {},
   "outputs": [],
   "source": []
  },
  {
   "cell_type": "code",
   "execution_count": null,
   "id": "72a9a184-9074-41dc-a338-a5dc4eba0a77",
   "metadata": {},
   "outputs": [],
   "source": []
  },
  {
   "cell_type": "code",
   "execution_count": null,
   "id": "e6e6e428-a725-411e-9fc1-2e5c08a6b0b0",
   "metadata": {},
   "outputs": [],
   "source": [
    "set PGDATA=C:/Users/Szymon/anaconda3/envs/ml/pgdata\n",
    "mkdir %PGDATA%\n",
    "pg_ctl initdb\n",
    "pg_ctl start\n",
    "psql -c \"create database DEMO;\" postgres\n"
   ]
  }
 ],
 "metadata": {
  "kernelspec": {
   "display_name": "Python 3 (ipykernel)",
   "language": "python",
   "name": "python3"
  },
  "language_info": {
   "codemirror_mode": {
    "name": "ipython",
    "version": 3
   },
   "file_extension": ".py",
   "mimetype": "text/x-python",
   "name": "python",
   "nbconvert_exporter": "python",
   "pygments_lexer": "ipython3",
   "version": "3.8.12"
  },
  "widgets": {
   "application/vnd.jupyter.widget-state+json": {
    "state": {},
    "version_major": 2,
    "version_minor": 0
   }
  }
 },
 "nbformat": 4,
 "nbformat_minor": 5
}
